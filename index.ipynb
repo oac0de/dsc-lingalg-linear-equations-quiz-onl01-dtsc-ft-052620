{
 "cells": [
  {
   "cell_type": "markdown",
   "metadata": {},
   "source": [
    "# Systems of Linear Equations - Lab\n",
    "\n",
    "## Introduction\n",
    "The following scenarios present problems that can be solved as a system of equations while performing substitutions and eliminations as you saw in the previous lesson.\n",
    "\n",
    "* Solve these problems by hand, showing all the steps to work out the unknown variable values \n",
    "* Verify your answers by showing the calculated values satisfy all equations\n",
    "\n",
    "## Objectives\n",
    "\n",
    "In this lab you will: \n",
    "\n",
    "- Solve a system of equations using elimination and substitution\n",
    "\n",
    "## Exercise 1\n",
    "Jane paid 12 dollars for 4 cups of coffee and 4 cups of tea. 3 cups of coffee cost as much as 2 cups of tea. What would be the total cost of 5 cups of coffee and 5 cups of tea?\n",
    "\n",
    "### Solution\n",
    "\n",
    "> Let $x$ be the unit price of coffee and $y$ be the unit price of tea"
   ]
  },
  {
   "cell_type": "code",
   "execution_count": 9,
   "metadata": {
    "ExecuteTime": {
     "end_time": "2020-07-29T22:01:50.687876Z",
     "start_time": "2020-07-29T22:01:50.682190Z"
    }
   },
   "outputs": [
    {
     "data": {
      "text/plain": [
       "15.0"
      ]
     },
     "execution_count": 9,
     "metadata": {},
     "output_type": "execute_result"
    }
   ],
   "source": [
    "# 4c + 4t = 12 (A)\n",
    "# 3c - 2t = 0 (B)\n",
    "# c + t = 3 \n",
    "# c = 3 - t\n",
    "# 3(3-t) - t2 = 0\n",
    "# 9 - 3t - t2 = 0\n",
    "# 9 - 5t = 0\n",
    "# 9 = 5t\n",
    "# t = 9/5 \n",
    "\n",
    "# t = 9/5\n",
    "# t = 1.8\n",
    "# (2 * 1.8)\n",
    "# 3.6/3\n",
    "# c = 1.2\n",
    "# (5*1.2) + (5*1.8) = 15\n",
    "# Answer: 5 cups of tea and 5 cups of coffee = 15 dollars"
   ]
  },
  {
   "cell_type": "markdown",
   "metadata": {},
   "source": [
    "## Exercise 2\n",
    "\n",
    "Jim has more money than Bob. If Jim gave Bob 20 dollars, they would have the same amount. If Bob gave Jim 22 dollars, however, Jim would then have twice as much as Bob. \n",
    "\n",
    "How much does each one actually have?"
   ]
  },
  {
   "cell_type": "code",
   "execution_count": 34,
   "metadata": {
    "ExecuteTime": {
     "end_time": "2020-07-30T01:25:52.559604Z",
     "start_time": "2020-07-30T01:25:52.556857Z"
    }
   },
   "outputs": [],
   "source": [
    "# > Let x be the amount of money that Jim has and y be the amount that Bob has \n",
    "# x - 20 = y + 20 (A)\n",
    "# x + 22 = 2(y - 22)   (B)\n",
    "\n",
    "# x = y + 40 (A)\n",
    "\n",
    "# y + 62 = 2y - 44 (B)\n",
    "# 62 = y - 44\n",
    "# y = 106 (Bob)\n",
    "\n",
    "# x - 20 = 106 + 20 (A)\n",
    "# x - 20 = 126\n",
    "# x = 146 (Jim)"
   ]
  },
  {
   "cell_type": "markdown",
   "metadata": {},
   "source": [
    "## Exercise 3\n",
    "\n",
    "Mia has 30 coins, consisting of quarters (25 cents) and dimes (10 cents), which totals to the amount 5.70 dollars.  \n",
    "How many of each does she have?\n",
    "\n",
    "### Solution\n",
    "\n",
    "> Let x be the number of quarters and y be the number of dimes "
   ]
  },
  {
   "cell_type": "code",
   "execution_count": 15,
   "metadata": {
    "ExecuteTime": {
     "end_time": "2020-07-30T14:56:06.367443Z",
     "start_time": "2020-07-30T14:56:06.362888Z"
    }
   },
   "outputs": [
    {
     "data": {
      "text/plain": [
       "18.0"
      ]
     },
     "execution_count": 15,
     "metadata": {},
     "output_type": "execute_result"
    }
   ],
   "source": [
    "# Your solution here \n",
    "# 5.70 = .25x + .10y (A)\n",
    "# 30 = x + y     (B)\n",
    "\n",
    "# 57 = 2.5x + y (A)\n",
    "# 30 = x + y  (B)\n",
    "\n",
    "# 57 - 2.5x = y\n",
    "\n",
    "# 30 = x + (57 - 2.5x)\n",
    "# -27 = -1.5x\n",
    "\n",
    "# -27/-1.5 = x\n",
    "# x = 18 quarters\n",
    "\n",
    "# 30 = 18 - 12\n",
    "#  y = 12 dimes\n",
    "\n",
    "# Answer:\n",
    "# x = 18 quarters\n",
    "# y = 12 dimes"
   ]
  },
  {
   "cell_type": "markdown",
   "metadata": {},
   "source": [
    "## Level up (Optional)\n",
    "For more practice with linear equations, visit the following links for more complex equations:\n",
    "\n",
    "* https://www.transum.org/software/SW/Starter_of_the_day/Students/Simultaneous_Equations.asp?Level=6\n",
    "* https://www.transum.org/software/SW/Starter_of_the_day/Students/Simultaneous_Equations.asp?Level=7\n",
    "\n",
    "## Summary\n",
    "\n",
    "In this lesson, you learned how to solve linear equations by hand to find the coefficient values. You'll now move forward to have a deeper look into vectors and matrices and how Python and NumPy can help us solve more complex equations in an analytical context. "
   ]
  }
 ],
 "metadata": {
  "kernelspec": {
   "display_name": "Python 3",
   "language": "python",
   "name": "python3"
  },
  "language_info": {
   "codemirror_mode": {
    "name": "ipython",
    "version": 3
   },
   "file_extension": ".py",
   "mimetype": "text/x-python",
   "name": "python",
   "nbconvert_exporter": "python",
   "pygments_lexer": "ipython3",
   "version": "3.6.9"
  },
  "toc": {
   "base_numbering": 1,
   "nav_menu": {},
   "number_sections": true,
   "sideBar": true,
   "skip_h1_title": false,
   "title_cell": "Table of Contents",
   "title_sidebar": "Contents",
   "toc_cell": false,
   "toc_position": {},
   "toc_section_display": true,
   "toc_window_display": false
  },
  "varInspector": {
   "cols": {
    "lenName": 16,
    "lenType": 16,
    "lenVar": 40
   },
   "kernels_config": {
    "python": {
     "delete_cmd_postfix": "",
     "delete_cmd_prefix": "del ",
     "library": "var_list.py",
     "varRefreshCmd": "print(var_dic_list())"
    },
    "r": {
     "delete_cmd_postfix": ") ",
     "delete_cmd_prefix": "rm(",
     "library": "var_list.r",
     "varRefreshCmd": "cat(var_dic_list()) "
    }
   },
   "types_to_exclude": [
    "module",
    "function",
    "builtin_function_or_method",
    "instance",
    "_Feature"
   ],
   "window_display": false
  }
 },
 "nbformat": 4,
 "nbformat_minor": 2
}
